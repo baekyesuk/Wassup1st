{
 "cells": [
  {
   "cell_type": "code",
   "execution_count": 2,
   "id": "c17b43f9",
   "metadata": {},
   "outputs": [
    {
     "data": {
      "text/plain": [
       "'Hello World'"
      ]
     },
     "execution_count": 2,
     "metadata": {},
     "output_type": "execute_result"
    }
   ],
   "source": [
    "#01.화면에 Hello World 문자열을 출력하세요.\n",
    "\n",
    "'Hello World'"
   ]
  },
  {
   "cell_type": "code",
   "execution_count": 3,
   "id": "0680e566",
   "metadata": {},
   "outputs": [
    {
     "data": {
      "text/plain": [
       "\"Mary's cosmeticcs\""
      ]
     },
     "execution_count": 3,
     "metadata": {},
     "output_type": "execute_result"
    }
   ],
   "source": [
    "#02.화면에 Mary's cosmetics을 출력하세요. (중간에 '가 있음에 주의하세요)\n",
    "\n",
    "\"Mary's cosmeticcs\""
   ]
  },
  {
   "cell_type": "code",
   "execution_count": 14,
   "id": "3a32c8c1",
   "metadata": {},
   "outputs": [
    {
     "name": "stdout",
     "output_type": "stream",
     "text": [
      "신씨가 소리질렀다. \"도둑이야\"\n"
     ]
    }
   ],
   "source": [
    "#03.화면에 아래 문장을 출력하세요. (중간에 \"가 있음에 주의하세요.)\n",
    "#신씨가 소리질렀다. \"도둑이야\".\n",
    "\n",
    "print('신씨가 소리질렀다. \"도둑이야\"')"
   ]
  },
  {
   "cell_type": "code",
   "execution_count": 17,
   "id": "d090546e",
   "metadata": {},
   "outputs": [
    {
     "name": "stdout",
     "output_type": "stream",
     "text": [
      "C:\\Windows\n"
     ]
    }
   ],
   "source": [
    "#04.화면에 C:\\Windows를 출력하세요.\n",
    "print(\"C:\\Windows\")"
   ]
  },
  {
   "cell_type": "code",
   "execution_count": 18,
   "id": "267f1e95",
   "metadata": {},
   "outputs": [
    {
     "name": "stdout",
     "output_type": "stream",
     "text": [
      "안녕하세요.\n",
      "만나서\t\t반갑습니다.\n"
     ]
    }
   ],
   "source": [
    "#05 다음 코드를 실행해보고 \\t와 \\n의 역할을 설명해보세요.\n",
    "\n",
    "print(\"안녕하세요.\\n만나서\\t\\t반갑습니다.\")\n",
    "\n",
    "\\n:줄바꿈\n",
    "\\t:공백----> 탭을 의미!"
   ]
  },
  {
   "cell_type": "code",
   "execution_count": 21,
   "id": "746d7270",
   "metadata": {},
   "outputs": [
    {
     "ename": "SyntaxError",
     "evalue": "invalid syntax (1420818695.py, line 5)",
     "output_type": "error",
     "traceback": [
      "\u001b[1;36m  Cell \u001b[1;32mIn[21], line 5\u001b[1;36m\u001b[0m\n\u001b[1;33m    오늘은 일요일\u001b[0m\n\u001b[1;37m        ^\u001b[0m\n\u001b[1;31mSyntaxError\u001b[0m\u001b[1;31m:\u001b[0m invalid syntax\n"
     ]
    }
   ],
   "source": [
    "#06 print 함수에 두 개의 단어를 입력한 예제입니다. \n",
    "#아래 코드의 출력 결과를 예상해봅시다.\n",
    "#print (\"오늘은\", \"일요일\")\n",
    "\n",
    "오늘은 일요일"
   ]
  },
  {
   "cell_type": "code",
   "execution_count": 20,
   "id": "4f8ce9fe",
   "metadata": {},
   "outputs": [
    {
     "name": "stdout",
     "output_type": "stream",
     "text": [
      "오늘은 일요일\n"
     ]
    }
   ],
   "source": [
    "print (\"오늘은\", \"일요일\")"
   ]
  },
  {
   "cell_type": "code",
   "execution_count": 37,
   "id": "79540b70",
   "metadata": {},
   "outputs": [
    {
     "name": "stdout",
     "output_type": "stream",
     "text": [
      "naver;kakao;sk;samsung\n"
     ]
    },
    {
     "data": {
      "text/plain": [
       "'naver;kakao;sk;samsnung'"
      ]
     },
     "execution_count": 37,
     "metadata": {},
     "output_type": "execute_result"
    }
   ],
   "source": [
    "#07 print() 함수를 사용하여 다음과 같이 출력하세요.\n",
    "#naver;kakao;sk;samsung\n",
    "\n",
    "print('naver','kakao','sk','samsung',sep=';')   #sep를 인자로 \";\"를 입력하면 출력되는 값는 사이에 한 칸의 공백대신 세미콜론이 출력\n",
    "\";\".join(['naver','kakao','sk','samsnung'])"
   ]
  },
  {
   "cell_type": "code",
   "execution_count": 40,
   "id": "429c1e2f",
   "metadata": {},
   "outputs": [
    {
     "name": "stdout",
     "output_type": "stream",
     "text": [
      "naver/kakao/sk/samsung\n"
     ]
    },
    {
     "data": {
      "text/plain": [
       "'naver/kakao/sk/samsung'"
      ]
     },
     "execution_count": 40,
     "metadata": {},
     "output_type": "execute_result"
    }
   ],
   "source": [
    "#08 print() 함수를 사용하여 다음과 같이 출력하세요.\n",
    "#naver/kakao/sk/samsung\n",
    "\n",
    "print('naver','kakao','sk','samsung',sep=\"/\")\n",
    "\"/\".join(['naver','kakao','sk','samsung'])"
   ]
  },
  {
   "cell_type": "code",
   "execution_count": 56,
   "id": "99225304",
   "metadata": {},
   "outputs": [
    {
     "name": "stdout",
     "output_type": "stream",
     "text": [
      "firstsecond\n"
     ]
    }
   ],
   "source": [
    "#09 다음 코드를 수정하여 줄바꿈이 없이 출력하세요. \n",
    "#(힌트: end='') print 함수는 두 번 사용합니다. 세미콜론 (;)은 한줄에 여러 개의 명령을 작성하기 위해 사용합니다.\n",
    "#print(\"first\");print(\"second\")\n",
    "\n",
    "print(\"first\",end=\"\"); print(\"second\")"
   ]
  },
  {
   "cell_type": "code",
   "execution_count": 60,
   "id": "80a21576",
   "metadata": {},
   "outputs": [
    {
     "data": {
      "text/plain": [
       "1.6666666666666667"
      ]
     },
     "execution_count": 60,
     "metadata": {},
     "output_type": "execute_result"
    }
   ],
   "source": [
    "#10 5/3의 결과를 화면에 출력하세요.\n",
    "5/3"
   ]
  },
  {
   "cell_type": "code",
   "execution_count": 67,
   "id": "3b8664b6",
   "metadata": {},
   "outputs": [
    {
     "name": "stdout",
     "output_type": "stream",
     "text": [
      "500000\n"
     ]
    }
   ],
   "source": [
    "#11 변수 사용하기\n",
    "#삼성전자라는 변수로 50,000원을 바인딩해보세요. 삼성전자 주식 10주를 보유하고 있을 때 총 평가금액을 출력하세요.\n",
    "\n",
    "삼성전자=50000               #abc=3 인식하게하려면 a b c하면 안됨 (띄어쓰기x)\n",
    "총평가금액 = 삼성전자*10\n",
    "\n",
    "print(총평가금액)"
   ]
  },
  {
   "cell_type": "code",
   "execution_count": 68,
   "id": "1be1bb01",
   "metadata": {},
   "outputs": [
    {
     "ename": "SyntaxError",
     "evalue": "invalid decimal literal (2947154491.py, line 4)",
     "output_type": "error",
     "traceback": [
      "\u001b[1;36m  Cell \u001b[1;32mIn[68], line 4\u001b[1;36m\u001b[0m\n\u001b[1;33m    시가총액\t298조\u001b[0m\n\u001b[1;37m        \t  ^\u001b[0m\n\u001b[1;31mSyntaxError\u001b[0m\u001b[1;31m:\u001b[0m invalid decimal literal\n"
     ]
    }
   ],
   "source": [
    "#12 다음 표는 삼성전자의 일부 투자정보입니다. 변수를 사용해서 시가총액, 현재가, PER 등을 바인딩해보세요.\n",
    "\n",
    "#항목         값\n",
    "#시가총액   298조\n",
    "#현재가    50,000원\n",
    "#PER        15.79\n",
    "\n"
   ]
  },
  {
   "cell_type": "code",
   "execution_count": null,
   "id": "aef7ce91",
   "metadata": {},
   "outputs": [],
   "source": []
  },
  {
   "cell_type": "code",
   "execution_count": null,
   "id": "cfa1b076",
   "metadata": {},
   "outputs": [],
   "source": [
    "# 101번 파이썬에서 True 혹은 False를 갖는 데이터 타입은 무엇인가?\n",
    "\n",
    "'bool'타입"
   ]
  },
  {
   "cell_type": "code",
   "execution_count": 1,
   "id": "23574419",
   "metadata": {},
   "outputs": [
    {
     "name": "stdout",
     "output_type": "stream",
     "text": [
      "False\n"
     ]
    }
   ],
   "source": [
    "#102. 래 코드의 출력 결과를 예상하라\n",
    "#print(3 == 5)\n",
    "#False\n",
    "\n",
    "print(3 == 5)"
   ]
  },
  {
   "cell_type": "code",
   "execution_count": 2,
   "id": "257f52e3",
   "metadata": {},
   "outputs": [
    {
     "name": "stdout",
     "output_type": "stream",
     "text": [
      "True\n"
     ]
    }
   ],
   "source": [
    "#103. 아래 코드의 출력 결과를 예상하라\n",
    "#print(3 < 5)\n",
    "#True\n",
    "print(3 < 5)\n"
   ]
  },
  {
   "cell_type": "code",
   "execution_count": 3,
   "id": "c718b93e",
   "metadata": {
    "scrolled": true
   },
   "outputs": [
    {
     "name": "stdout",
     "output_type": "stream",
     "text": [
      "True\n"
     ]
    }
   ],
   "source": [
    "#104.아래 코드의 결과를 예상하라.\n",
    "#x = 4\n",
    "#print(1 < x < 5)\n",
    "#True\n",
    "x = 4\n",
    "print(1 < x < 5)\n"
   ]
  },
  {
   "cell_type": "code",
   "execution_count": 4,
   "id": "9e54fe68",
   "metadata": {},
   "outputs": [
    {
     "name": "stdout",
     "output_type": "stream",
     "text": [
      "True\n"
     ]
    }
   ],
   "source": [
    "#105.아래 코드의 결과를 예상하라.\n",
    "#print ((3 == 3) and (4 != 3))\n",
    "#True\n",
    "print ((3 == 3) and (4 != 3))  #연산자 != 같지않다 의미"
   ]
  },
  {
   "cell_type": "code",
   "execution_count": 6,
   "id": "6fbc2d62",
   "metadata": {},
   "outputs": [
    {
     "name": "stdout",
     "output_type": "stream",
     "text": [
      "False\n"
     ]
    }
   ],
   "source": [
    "#106.아래 코드에서 에러가 발생하는 원인에 대해 설명하라.\n",
    "#print(3 => 4)\n",
    "\n",
    "#연산자 기호를 >= 로 변경\n",
    "print(3 >= 4)"
   ]
  },
  {
   "cell_type": "code",
   "execution_count": 8,
   "id": "37ae8ff3",
   "metadata": {},
   "outputs": [],
   "source": [
    "#107.아래 코드의 출력 결과를 예상하라\n",
    "# if 4 < 3:\n",
    "  #  print(\"Hello World\")\n",
    "    \n",
    "  # -> 조건만족 X 아무값도 안나옴"
   ]
  },
  {
   "cell_type": "code",
   "execution_count": 9,
   "id": "9d7c70a7",
   "metadata": {},
   "outputs": [
    {
     "name": "stdout",
     "output_type": "stream",
     "text": [
      "Hi, there.\n"
     ]
    }
   ],
   "source": [
    "#108.아래 코드의 출력 결과를 예상하라\n",
    "# if 4 < 3:\n",
    "#     print(\"Hello World.\")\n",
    "# else:\n",
    "#    print(\"Hi, there.\")\n",
    "\n",
    "if문에서 조건을 만족시키지 못하므로 Hi, there. 이 출력"
   ]
  },
  {
   "cell_type": "code",
   "execution_count": 10,
   "id": "a7720528",
   "metadata": {},
   "outputs": [
    {
     "name": "stdout",
     "output_type": "stream",
     "text": [
      "1\n",
      "2\n",
      "4\n"
     ]
    }
   ],
   "source": [
    "#109.아래 코드의 출력 결과를 예상하라\n",
    "#if True :\n",
    " #   print (\"1\")\n",
    "  # print (\"2\")\n",
    "#else :\n",
    "#    print(\"3\")\n",
    "#print(\"4\")\n",
    "\n",
    "존재하면 True\n",
    "1\n",
    "2\n",
    "4\n",
    "로 출력?\n",
    "\n",
    "\n",
    "if True :\n",
    "    print (\"1\")\n",
    "    print (\"2\")\n",
    "else :\n",
    "    print(\"3\")\n",
    "print(\"4\")"
   ]
  },
  {
   "cell_type": "code",
   "execution_count": 11,
   "id": "c5bd1460",
   "metadata": {},
   "outputs": [
    {
     "name": "stdout",
     "output_type": "stream",
     "text": [
      "3\n",
      "5\n"
     ]
    }
   ],
   "source": [
    "#110.아래 코드의 출력 결과를 예상하라\n",
    "#if True :\n",
    "#    if False:\n",
    "#        print(\"1\")\n",
    "#        print(\"2\")\n",
    "#    else:\n",
    "#        print(\"3\")\n",
    "#else :\n",
    "#    print(\"4\")\n",
    "#print(\"5\")\n",
    "\n",
    "#3\n",
    "#5\n",
    "\n",
    "if True :\n",
    "    if False:\n",
    "        print(\"1\")\n",
    "        print(\"2\")\n",
    "    else:\n",
    "        print(\"3\")\n",
    "else :\n",
    "    print(\"4\")\n",
    "print(\"5\")"
   ]
  },
  {
   "cell_type": "code",
   "execution_count": 15,
   "id": "208ffcb7",
   "metadata": {},
   "outputs": [
    {
     "name": "stdout",
     "output_type": "stream",
     "text": [
      "입력:안녕\n",
      "안녕안녕\n"
     ]
    }
   ],
   "source": [
    "#111.사용자로부터 입력받은 문자열을 두 번 출력하라. \n",
    "#아래는 사용자가 \"안녕하세요\"를 입력한 경우의 출력 결과이다.\n",
    "\n",
    "#>> 안녕하세요\n",
    "#안녕하세요안녕하세요\n",
    "\n",
    "user= input(\"입력:\")\n",
    "print(user*2)"
   ]
  },
  {
   "cell_type": "code",
   "execution_count": 24,
   "id": "77efbaf8",
   "metadata": {},
   "outputs": [
    {
     "name": "stdout",
     "output_type": "stream",
     "text": [
      "숫자: 10\n",
      "20\n"
     ]
    }
   ],
   "source": [
    "#112.사용자로부터 하나의 숫자를 입력받고, \n",
    "#입력 받은 숫자에 10을 더해 출력하라.\n",
    "\n",
    "# 숫자를 입력하세요: 30\n",
    "#40\n",
    "user=input(\"숫자: \")\n",
    "print(10+int(user))"
   ]
  },
  {
   "cell_type": "code",
   "execution_count": 31,
   "id": "d4edae22",
   "metadata": {},
   "outputs": [
    {
     "name": "stdout",
     "output_type": "stream",
     "text": [
      "숫자: 15\n",
      "홀수\n"
     ]
    }
   ],
   "source": [
    "#113.사용자로부터 하나의 숫자를 입력 받고 짝수/홀수를 판별하라.\n",
    "#>> 30\n",
    "#짝수\n",
    "\n",
    "user=input(\"숫자: \")\n",
    "if int(user)%2==0:\n",
    "    print('짝수')\n",
    "else:\n",
    "    print('홀수')"
   ]
  },
  {
   "cell_type": "code",
   "execution_count": 43,
   "id": "a0de949b",
   "metadata": {
    "scrolled": true
   },
   "outputs": [
    {
     "name": "stdout",
     "output_type": "stream",
     "text": [
      "입력값:275\n",
      "255\n"
     ]
    }
   ],
   "source": [
    "#114.사용자로부터 값을 입력받은 후 해당 값에 20을 더한 값을 출력하라. 단 사용자가 입력한 값과 20을 더한 계산 값이 255를 초과하는 경우 255를 출력해야 한다.\n",
    "#>> 입력값: 200\n",
    "#출력값: 220\n",
    "#>> 입력값: 240\n",
    "#출력값: 255\n",
    "\n",
    "user =input(\"입력값:\")\n",
    "\n",
    "if 20+int(user)>255:\n",
    "    print('255')\n",
    "else:\n",
    "    print(20+int(user))"
   ]
  },
  {
   "cell_type": "code",
   "execution_count": 47,
   "id": "ad137879",
   "metadata": {},
   "outputs": [
    {
     "name": "stdout",
     "output_type": "stream",
     "text": [
      "입력값:300\n",
      "255\n"
     ]
    }
   ],
   "source": [
    "#115.사용자로부터 하나의 값을 입력받은 후 해당 값에 20을 뺀 값을 출력\n",
    "#단 출력 값의 범위는 0~255이다. \n",
    "#예를 들어 결괏값이 0보다 작은 값이되는 경우 0을 출력하고 \n",
    "#255보다 큰 값이 되는 경우 255를 출력해야 한다.\n",
    "\n",
    "#>> 입력값: 200\n",
    "#출력값: 180\n",
    "#>> 입력값: 15\n",
    "#출력값: 0\n",
    "\n",
    "user=input(\"입력값:\")\n",
    "if int(user)-20>255:\n",
    "    print('255')\n",
    "    if int(user)-20<0:\n",
    "        print('0')\n",
    "else:\n",
    "    print(int(user)-20)\n",
    "    "
   ]
  },
  {
   "cell_type": "code",
   "execution_count": 48,
   "id": "85c1bfcd",
   "metadata": {
    "scrolled": true
   },
   "outputs": [
    {
     "name": "stdout",
     "output_type": "stream",
     "text": [
      "입력값:300\n",
      "255\n"
     ]
    }
   ],
   "source": [
    "user=input(\"입력값:\")\n",
    "if int(user)-20>255:\n",
    "    print('255')\n",
    "elif int(user)-20<0:\n",
    "    print('0')\n",
    "else:\n",
    "    print(int(user)-20)"
   ]
  },
  {
   "cell_type": "code",
   "execution_count": 50,
   "id": "4eb8cf94",
   "metadata": {},
   "outputs": [
    {
     "name": "stdout",
     "output_type": "stream",
     "text": [
      "현재시간:2:34\n",
      "정각 아니유\n"
     ]
    }
   ],
   "source": [
    "#116.사용자로부터 입력 받은 시간이 정각인지 판별하라.\n",
    "#>> 현재시간:02:00\n",
    "#정각 입니다.\n",
    "#>> 현재시간:03:10\n",
    "#정각이 아닙니다\n",
    "\n",
    "user=input(\"현재시간:\")\n",
    "if user[-2]== \"00\":\n",
    "    print(\"정각입니다.\")\n",
    "else:\n",
    "    print(\"정각 아니유\")"
   ]
  },
  {
   "cell_type": "code",
   "execution_count": 51,
   "id": "250f0111",
   "metadata": {},
   "outputs": [
    {
     "name": "stdout",
     "output_type": "stream",
     "text": [
      "좋아하는 과일은?:배\n",
      "오답입니다.\n"
     ]
    }
   ],
   "source": [
    "1#17.사용자로 입력받은 단어가 아래 fruit 리스트에 포함되어 있는지를 확인하라. \n",
    "#포함되었다면 \"정답입니다\"를 아닐 경우 \"오답입니다\" 출력하라.\n",
    "\n",
    "#fruit = [\"사과\", \"포도\", \"홍시\"]\n",
    "#>> 좋아하는 과일은? 사과\n",
    "#정답입니다.\n",
    "\n",
    "user=input(\"좋아하는 과일은?:\")\n",
    "fruit = [\"사과\", \"포도\", \"홍시\"]\n",
    "if user in fruit:\n",
    "    print('정답입니다')\n",
    "else:\n",
    "    print('오답입니다.')"
   ]
  },
  {
   "cell_type": "code",
   "execution_count": 53,
   "id": "0a98e96f",
   "metadata": {},
   "outputs": [
    {
     "name": "stdout",
     "output_type": "stream",
     "text": [
      "주식종목:Naver\n",
      "투자 경고 종목입니다.\n"
     ]
    }
   ],
   "source": [
    "#118.투자 경고 종목 리스트가 있을 때 사용자로부터 \n",
    "#종목명을 입력 받은 후 해당 종목이 투자 경고 종목이라면 \n",
    "#'투자 경고 종목입니다'를 아니면 \"투자 경고 종목이 아닙니다.\"를 \n",
    "#출력하는 프로그램을 작성하라.\n",
    "\n",
    "warn_investment_list = [\"Microsoft\", \"Google\", \"Naver\", \"Kakao\", \"SAMSUNG\", \"LG\"]\n",
    "user=input(\"주식종목:\")\n",
    "if user in warn_investment_list:\n",
    "    print('투자 경고 종목입니다.')\n",
    "else:\n",
    "    print('투자 경고 종목이 아닙니다.')"
   ]
  },
  {
   "cell_type": "code",
   "execution_count": 56,
   "id": "671eff0c",
   "metadata": {},
   "outputs": [
    {
     "name": "stdout",
     "output_type": "stream",
     "text": [
      "좋아하는 계절은:토마토\n",
      "오답입니다.\n"
     ]
    }
   ],
   "source": [
    "#119.아래와 같이 fruit 딕셔너리가 정의되어 있다. \n",
    "#사용자가 입력한 값이 딕셔너리 키 (key) 값에 포함되었다면 \n",
    "#\"정답입니다\"를 아닐 경우 \"오답입니다\" 출력하라.\n",
    "\n",
    "#fruit = {\"봄\" : \"딸기\", \"여름\" : \"토마토\", \"가을\" : \"사과\"}\n",
    "#>> 제가좋아하는계절은: 봄\n",
    "#정답입니다.\n",
    "\n",
    "fruit = {\"봄\" : \"딸기\", \"여름\" : \"토마토\", \"가을\" : \"사과\"}\n",
    "user=input(\"좋아하는 계절은:\")\n",
    "if user in fruit:\n",
    "    print('정답입니다.')\n",
    "else:\n",
    "    print('오답입니다.')\n",
    "\n"
   ]
  },
  {
   "cell_type": "code",
   "execution_count": 58,
   "id": "07b8eda0",
   "metadata": {},
   "outputs": [
    {
     "name": "stdout",
     "output_type": "stream",
     "text": [
      ":좋아하는 과일은?토마토\n",
      "오답입니다.\n"
     ]
    }
   ],
   "source": [
    "#120.아래와 같이 fruit 딕셔너리가 정의되어 있다.\n",
    "#사용자가 입력한 값이 딕셔너리 값 (value)에 포함되었다면 \n",
    "#\"정답입니다\"를 아닐 경우 \"오답입니다\" 출력하라.\n",
    "\n",
    "#fruit = {\"봄\" : \"딸기\", \"여름\" : \"토마토\", \"가을\" : \"사과\"}\n",
    "#>> 좋아하는과일은? 한라봉\n",
    "#오답입니다.\n",
    "\n",
    "fruit = {\"봄\" : \"딸기\", \"여름\" : \"토마토\", \"가을\" : \"사과\"}\n",
    "user=input(\":좋아하는 과일은?\")\n",
    "if user in fruit:\n",
    "    print('정답입니다.')\n",
    "else:\n",
    "    print('오답입니다.')\n",
    "    \n",
    "# 119번에서는 되고 120번에서 안되는 이유는?\n",
    "# ->계절인 key는 keys() 라는 메서드를 쓰지 않아도 비교할 수 있는데,\n",
    "#과일인 value는 바로 비교가 불가\n",
    "#그래서 values() 를 써야 비교 가능"
   ]
  },
  {
   "cell_type": "code",
   "execution_count": 60,
   "id": "dc7e1e72",
   "metadata": {
    "scrolled": true
   },
   "outputs": [
    {
     "name": "stdout",
     "output_type": "stream",
     "text": [
      "좋아하는 과일은?토마토\n",
      "정답입니다.\n"
     ]
    }
   ],
   "source": [
    "fruit = {\"봄\" : \"딸기\", \"여름\" : \"토마토\", \"가을\" : \"사과\"}\n",
    "user = input(\"좋아하는 과일은?\")\n",
    "if user in fruit.values():\n",
    "    print(\"정답입니다.\")\n",
    "else:\n",
    "    print(\"오답입니다.\")  \n",
    "    \n",
    "#key와 value를 따로 추출하는 것을 이용해야함"
   ]
  },
  {
   "cell_type": "code",
   "execution_count": 67,
   "id": "53b99183",
   "metadata": {},
   "outputs": [
    {
     "name": "stdout",
     "output_type": "stream",
     "text": [
      "a\n",
      "A\n"
     ]
    }
   ],
   "source": [
    "#121.사용자로부터 문자 한 개를 입력 받고, 소문자일 경우 대문자로, \n",
    "#대문자 일 경우, 소문자로 변경해서 출력하라.\n",
    "\n",
    "user=input(\"\")\n",
    "if user.islower():\n",
    "    print(user.upper())\n",
    "else:\n",
    "    print((user.lower))\n",
    "    \n"
   ]
  },
  {
   "cell_type": "code",
   "execution_count": 77,
   "id": "430f7028",
   "metadata": {},
   "outputs": [
    {
     "name": "stdout",
     "output_type": "stream",
     "text": [
      "score:18\n",
      " grade is E\n"
     ]
    }
   ],
   "source": [
    "#122. \n",
    "score=input(\"score:\")\n",
    "score=int(score)\n",
    "if 81<= score <=100:\n",
    "    print(\"grade is A\")\n",
    "elif 61<= score<=80:\n",
    "    print(\" grade is B\")\n",
    "elif 41<= score<=60:\n",
    "    print(\" grade is C\")\n",
    "elif 21<= score<=40:\n",
    "    print(\" grade is D\")\n",
    "else:\n",
    "    print(\" grade is E\")\n",
    "\n"
   ]
  },
  {
   "cell_type": "code",
   "execution_count": null,
   "id": "7b274ae1",
   "metadata": {},
   "outputs": [],
   "source": [
    "#123.\n"
   ]
  },
  {
   "cell_type": "code",
   "execution_count": 78,
   "id": "c05c5e34",
   "metadata": {},
   "outputs": [
    {
     "name": "stdout",
     "output_type": "stream",
     "text": [
      "숫자:숫자:숫자1:2:3\n"
     ]
    },
    {
     "ename": "NameError",
     "evalue": "name '숫자' is not defined",
     "output_type": "error",
     "traceback": [
      "\u001b[1;31m---------------------------------------------------------------------------\u001b[0m",
      "\u001b[1;31mNameError\u001b[0m                                 Traceback (most recent call last)",
      "Cell \u001b[1;32mIn[78], line 8\u001b[0m\n\u001b[0;32m      1\u001b[0m \u001b[38;5;66;03m#124.사용자로부터 세 개의 숫자를 입력 받은 후 가장 큰 숫자를 출력하라.\u001b[39;00m\n\u001b[0;32m      2\u001b[0m \u001b[38;5;66;03m#>> input number1: 10\u001b[39;00m\n\u001b[0;32m      3\u001b[0m \u001b[38;5;66;03m#>> input number2: 9\u001b[39;00m\n\u001b[0;32m      4\u001b[0m \u001b[38;5;66;03m#>> input number3: 20\u001b[39;00m\n\u001b[0;32m      5\u001b[0m \u001b[38;5;66;03m#20\u001b[39;00m\n\u001b[0;32m      7\u001b[0m user\u001b[38;5;241m=\u001b[39m \u001b[38;5;28minput\u001b[39m(\u001b[38;5;124m\"\u001b[39m\u001b[38;5;124m숫자:숫자:숫자\u001b[39m\u001b[38;5;124m\"\u001b[39m)\n\u001b[1;32m----> 8\u001b[0m user\u001b[38;5;241m=\u001b[39m\u001b[38;5;28mint\u001b[39m(숫자)\n",
      "\u001b[1;31mNameError\u001b[0m: name '숫자' is not defined"
     ]
    }
   ],
   "source": [
    "#124.사용자로부터 세 개의 숫자를 입력 받은 후 가장 큰 숫자를 출력하라.\n",
    "#>> input number1: 10\n",
    "#>> input number2: 9\n",
    "#>> input number3: 20\n",
    "#20\n",
    "\n",
    "user= input(\"input number1:\")\n",
    "user=int()\n"
   ]
  },
  {
   "cell_type": "code",
   "execution_count": null,
   "id": "087d709a",
   "metadata": {},
   "outputs": [],
   "source": []
  },
  {
   "cell_type": "code",
   "execution_count": null,
   "id": "868b07c6",
   "metadata": {},
   "outputs": [],
   "source": []
  },
  {
   "cell_type": "code",
   "execution_count": null,
   "id": "3b044d7c",
   "metadata": {},
   "outputs": [],
   "source": []
  }
 ],
 "metadata": {
  "kernelspec": {
   "display_name": "Python 3 (ipykernel)",
   "language": "python",
   "name": "python3"
  },
  "language_info": {
   "codemirror_mode": {
    "name": "ipython",
    "version": 3
   },
   "file_extension": ".py",
   "mimetype": "text/x-python",
   "name": "python",
   "nbconvert_exporter": "python",
   "pygments_lexer": "ipython3",
   "version": "3.11.5"
  },
  "toc": {
   "base_numbering": 1,
   "nav_menu": {},
   "number_sections": true,
   "sideBar": true,
   "skip_h1_title": false,
   "title_cell": "Table of Contents",
   "title_sidebar": "Contents",
   "toc_cell": false,
   "toc_position": {},
   "toc_section_display": true,
   "toc_window_display": false
  }
 },
 "nbformat": 4,
 "nbformat_minor": 5
}
