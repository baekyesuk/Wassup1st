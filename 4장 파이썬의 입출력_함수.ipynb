{
 "cells": [
  {
   "cell_type": "markdown",
   "id": "b08ab6cf",
   "metadata": {},
   "source": [
    "## 함수"
   ]
  },
  {
   "cell_type": "code",
   "execution_count": 1,
   "id": "65e15f4c",
   "metadata": {},
   "outputs": [
    {
     "name": "stdout",
     "output_type": "stream",
     "text": [
      "7\n"
     ]
    }
   ],
   "source": [
    "def add(a,b):\n",
    "    return a+b\n",
    "a=3\n",
    "b=4      #지역변수 (함수값 안에서만 사용하는 변수)\n",
    "c=add(a,b) #add(3,4)의 리턴값을 c에 대입\n",
    "print(c)"
   ]
  },
  {
   "cell_type": "markdown",
   "id": "cd992b84",
   "metadata": {},
   "source": [
    "### 일반적인 함수"
   ]
  },
  {
   "cell_type": "code",
   "execution_count": 2,
   "id": "65273519",
   "metadata": {},
   "outputs": [
    {
     "name": "stdout",
     "output_type": "stream",
     "text": [
      "7\n"
     ]
    }
   ],
   "source": [
    "def add(a,b):\n",
    "    result = a+b\n",
    "    return result\n",
    "a=add(3,4) \n",
    "print(a)"
   ]
  },
  {
   "cell_type": "markdown",
   "id": "06fb6102",
   "metadata": {},
   "source": [
    "### 입력값이 없는 함수"
   ]
  },
  {
   "cell_type": "code",
   "execution_count": 4,
   "id": "fdaaf9ea",
   "metadata": {},
   "outputs": [
    {
     "name": "stdout",
     "output_type": "stream",
     "text": [
      "hi\n"
     ]
    }
   ],
   "source": [
    "def say():\n",
    "    return 'hi'  #지역변수를 전역변수로 해줌 리던 없으면 함수내에서만 해결\n",
    "a=say()\n",
    "print(a)"
   ]
  },
  {
   "cell_type": "markdown",
   "id": "059869a5",
   "metadata": {},
   "source": [
    "### 리턴값이 없는 함수"
   ]
  },
  {
   "cell_type": "code",
   "execution_count": 10,
   "id": "5b59f0cc",
   "metadata": {},
   "outputs": [
    {
     "name": "stdout",
     "output_type": "stream",
     "text": [
      "3,4의 합은 7입니다.\n"
     ]
    }
   ],
   "source": [
    "def add(a,b):\n",
    "    print(\"%d,%d의 합은 %d입니다.\" % (a,b,a+b))\n",
    "add(3,4)"
   ]
  },
  {
   "cell_type": "code",
   "execution_count": 12,
   "id": "6530495f",
   "metadata": {},
   "outputs": [
    {
     "name": "stdout",
     "output_type": "stream",
     "text": [
      "3,4의 합은 7입니다.\n",
      "None\n"
     ]
    }
   ],
   "source": [
    "a=add(3,4)\n",
    "print(a)"
   ]
  },
  {
   "cell_type": "markdown",
   "id": "6440f19a",
   "metadata": {},
   "source": [
    "### 입력값도, 리턴값도 없는 함수"
   ]
  },
  {
   "cell_type": "code",
   "execution_count": 16,
   "id": "d91f0df6",
   "metadata": {},
   "outputs": [
    {
     "name": "stdout",
     "output_type": "stream",
     "text": [
      "hi\n"
     ]
    }
   ],
   "source": [
    "def say():\n",
    "    print('hi')\n",
    "say()"
   ]
  },
  {
   "cell_type": "markdown",
   "id": "fd615df9",
   "metadata": {},
   "source": [
    "### 매개변수를 지정하여 호출하기\n",
    "순서에 상관없이 사용할 수 있음"
   ]
  },
  {
   "cell_type": "code",
   "execution_count": 18,
   "id": "245b781a",
   "metadata": {},
   "outputs": [
    {
     "name": "stdout",
     "output_type": "stream",
     "text": [
      "4\n"
     ]
    }
   ],
   "source": [
    "def sub(a,b):\n",
    "    return a-b\n",
    "result=sub(a=7,b=3) #a에7,b에3을 전달\n",
    "print(result)"
   ]
  },
  {
   "cell_type": "markdown",
   "id": "531b7734",
   "metadata": {},
   "source": [
    "### 입력값이 몇 개가 될지 모를 때는 어떻게 해야 할까?\n",
    "def 함수_이름(*매개변수):\n",
    "    수행할_문장"
   ]
  },
  {
   "cell_type": "markdown",
   "id": "50d4706c",
   "metadata": {},
   "source": [
    "#### 여러 개의 입력값을 받는 함수 만들기\n",
    "튜플\n",
    "\n",
    "다음 예를 통해 여러 개의 입력값을 모두 더하는 함수를 직접 만들어 보자. 예를 들어 add_many(1, 2)이면 3, add_many(1, 2, 3)이면 6, add_many(1, 2, 3, 4, 5, 6, 7, 8, 9, 10)이면 55를 리턴하는 함수를 만들어 보자.\n",
    "\n",
    " def add_many(*args):    \n",
    "     result = 0    \n",
    "     for i in args:    \n",
    "        result = result + i   # *args에 입력받은 모든 값을 더한다.   \n",
    "     return result    "
   ]
  },
  {
   "cell_type": "code",
   "execution_count": 21,
   "id": "62839408",
   "metadata": {},
   "outputs": [
    {
     "name": "stdout",
     "output_type": "stream",
     "text": [
      "6\n"
     ]
    }
   ],
   "source": [
    "def add_many(*args): #*=r가변인수의미, 여러 개의 입력값을 모두 더하는 함수\n",
    "    result = 0         # *args는 임의로 정한 변수 이름이다. *pey, *python처럼 아무 이름이나 써도 된다.\n",
    "    for i in args: \n",
    "        result = result + i   # *args에 입력받은 모든 값을 더한다.\n",
    "    return result \n",
    "result=add_many(1,2,3)\n",
    "print(result)"
   ]
  },
  {
   "cell_type": "code",
   "execution_count": 23,
   "id": "d9de63f6",
   "metadata": {},
   "outputs": [
    {
     "name": "stdout",
     "output_type": "stream",
     "text": [
      "55\n"
     ]
    }
   ],
   "source": [
    "result=add_many(1,2,3,4,5,6,7,8,9,10) #여러 개의 입력값을 모두 더하는 함수\n",
    "print(result)"
   ]
  },
  {
   "cell_type": "code",
   "execution_count": 24,
   "id": "9aaa01e2",
   "metadata": {},
   "outputs": [],
   "source": [
    "def add_mul(choice,*args):\n",
    "    if choice =='add':\n",
    "        result=0\n",
    "        for i in args:\n",
    "            result =result+i\n",
    "    elif choice == 'mul':\n",
    "        result =1\n",
    "        for i in args:\n",
    "            result=result*i\n",
    "            \n",
    "    return result"
   ]
  },
  {
   "cell_type": "code",
   "execution_count": 25,
   "id": "52667910",
   "metadata": {},
   "outputs": [
    {
     "name": "stdout",
     "output_type": "stream",
     "text": [
      "15\n"
     ]
    }
   ],
   "source": [
    "result=add_mul('add',1,2,3,4,5)\n",
    "print(result)"
   ]
  },
  {
   "cell_type": "code",
   "execution_count": 26,
   "id": "5c9003bb",
   "metadata": {},
   "outputs": [
    {
     "name": "stdout",
     "output_type": "stream",
     "text": [
      "120\n"
     ]
    }
   ],
   "source": [
    "result=add_mul('mul',1,2,3,4,5)\n",
    "print(result)"
   ]
  },
  {
   "cell_type": "markdown",
   "id": "05e1abc4",
   "metadata": {},
   "source": [
    "#### 키워드 매개변수, kwargs \n",
    "딕셔너리로 저장해주는 함수"
   ]
  },
  {
   "cell_type": "code",
   "execution_count": 28,
   "id": "43f880a2",
   "metadata": {},
   "outputs": [],
   "source": [
    "def print_kwargs(**kwargs):\n",
    "    print(kwargs)"
   ]
  },
  {
   "cell_type": "code",
   "execution_count": 29,
   "id": "cea130ae",
   "metadata": {},
   "outputs": [
    {
     "name": "stdout",
     "output_type": "stream",
     "text": [
      "{'a': 1}\n"
     ]
    }
   ],
   "source": [
    "print_kwargs(a=1)"
   ]
  },
  {
   "cell_type": "code",
   "execution_count": 30,
   "id": "480d114c",
   "metadata": {},
   "outputs": [
    {
     "name": "stdout",
     "output_type": "stream",
     "text": [
      "{'name': 'foo', 'age': 3}\n"
     ]
    }
   ],
   "source": [
    "print_kwargs(name='foo',age=3)"
   ]
  },
  {
   "cell_type": "markdown",
   "id": "77715e4c",
   "metadata": {},
   "source": [
    "### 함수의 리턴값은 언제나 하나다."
   ]
  },
  {
   "cell_type": "code",
   "execution_count": 36,
   "id": "a122d789",
   "metadata": {},
   "outputs": [],
   "source": [
    "def add_and_mul(a,b):\n",
    "    return a+b, a*b"
   ]
  },
  {
   "cell_type": "code",
   "execution_count": 37,
   "id": "1cce41a9",
   "metadata": {},
   "outputs": [],
   "source": [
    "result=add_and_mul(3,4)"
   ]
  },
  {
   "cell_type": "code",
   "execution_count": 38,
   "id": "cc7794c9",
   "metadata": {},
   "outputs": [
    {
     "data": {
      "text/plain": [
       "(7, 12)"
      ]
     },
     "execution_count": 38,
     "metadata": {},
     "output_type": "execute_result"
    }
   ],
   "source": [
    "result"
   ]
  },
  {
   "cell_type": "code",
   "execution_count": 41,
   "id": "64525c4d",
   "metadata": {},
   "outputs": [
    {
     "name": "stdout",
     "output_type": "stream",
     "text": [
      "7\n",
      "12\n"
     ]
    }
   ],
   "source": [
    "# 분리해서 받고싶을때\n",
    "result1,result2=add_and_mul(3,4)\n",
    "print(result1)\n",
    "print(result2)  _로 할 ㄹ경우 사용 안함을 보여주어 가독성을 높임"
   ]
  },
  {
   "cell_type": "code",
   "execution_count": 42,
   "id": "04ca7925",
   "metadata": {},
   "outputs": [
    {
     "name": "stdout",
     "output_type": "stream",
     "text": [
      "5\n"
     ]
    }
   ],
   "source": [
    "#그렇다면 이렇게 하면 2개를 리턴할까?\n",
    "def add_and_mul(a,b):\n",
    "    return a+b\n",
    "    return a*b\n",
    "result=add_and_mul(2,3)\n",
    "print(result)     #응 안되쥬~ 함수는 리턴문을 만나는 순간 값을 반환하고 함수를 빠져나감 (두번째 미실행)"
   ]
  },
  {
   "cell_type": "markdown",
   "id": "f8462694",
   "metadata": {},
   "source": [
    "#### return의 또다른 쓰임새\n",
    "특별한 상황일때 함수를 빠져나가고 싶다면 return을 단독으로 써서 함수를 즉시 빠져나갈 수 있다."
   ]
  },
  {
   "cell_type": "code",
   "execution_count": null,
   "id": "4d128800",
   "metadata": {},
   "outputs": [],
   "source": [
    "def "
   ]
  },
  {
   "cell_type": "markdown",
   "id": "d20773a7",
   "metadata": {},
   "source": [
    "### 매개변수에 초깃값 미리 설정하기"
   ]
  },
  {
   "cell_type": "code",
   "execution_count": 43,
   "id": "4e8077b1",
   "metadata": {},
   "outputs": [],
   "source": [
    "def say_myself(name, age,man=True):\n",
    "    print('나의 이름은 %s입니다.' %age)\n",
    "    if man:\n",
    "        print('남자입니다.')\n",
    "    else:\n",
    "        print('여자입니다.')\n",
    "        "
   ]
  },
  {
   "cell_type": "code",
   "execution_count": 44,
   "id": "db3579d5",
   "metadata": {},
   "outputs": [
    {
     "name": "stdout",
     "output_type": "stream",
     "text": [
      "나의 이름은 27입니다.\n",
      "남자입니다.\n"
     ]
    }
   ],
   "source": [
    "say_myself('박응용', 27) #man=True가 기본값으로 들어가있어서 안해도돼"
   ]
  },
  {
   "cell_type": "code",
   "execution_count": 45,
   "id": "008d44f0",
   "metadata": {},
   "outputs": [
    {
     "name": "stdout",
     "output_type": "stream",
     "text": [
      "나의 이름은 27입니다.\n",
      "남자입니다.\n"
     ]
    }
   ],
   "source": [
    "say_myself('박응용', 27, True)"
   ]
  },
  {
   "cell_type": "code",
   "execution_count": 47,
   "id": "c0f33f25",
   "metadata": {
    "scrolled": true
   },
   "outputs": [
    {
     "name": "stdout",
     "output_type": "stream",
     "text": [
      "나의 이름은 27입니다.\n",
      "여자입니다.\n"
     ]
    }
   ],
   "source": [
    "say_myself('백예숙', 27,False)"
   ]
  },
  {
   "cell_type": "code",
   "execution_count": null,
   "id": "c9e77449",
   "metadata": {},
   "outputs": [],
   "source": [
    "#초깃값 설정시 주의점(초기화 매개변수는 맨 뒤에, 고정인수는 맨 앞에)"
   ]
  },
  {
   "cell_type": "markdown",
   "id": "4ed55d90",
   "metadata": {},
   "source": [
    "### 함수 안에서 선언한 변수의 효력 범위\n",
    "함수 안에서 사용할 변수의 이름을 함수 밖에서도 동일하게 사용한다면?"
   ]
  },
  {
   "cell_type": "code",
   "execution_count": 52,
   "id": "5c0358b7",
   "metadata": {},
   "outputs": [
    {
     "name": "stdout",
     "output_type": "stream",
     "text": [
      "None\n",
      "1\n"
     ]
    }
   ],
   "source": [
    "# vartest.py\n",
    "a = 1\n",
    "def vartest(a):\n",
    "    a = a +1\n",
    "\n",
    "print(vartest(a))\n",
    "print(a)\n"
   ]
  },
  {
   "cell_type": "code",
   "execution_count": 50,
   "id": "73807e37",
   "metadata": {},
   "outputs": [],
   "source": [
    "def vartest(hello):\n",
    "    hello = hello + 1\n",
    "    "
   ]
  },
  {
   "cell_type": "code",
   "execution_count": 53,
   "id": "4c51418e",
   "metadata": {},
   "outputs": [
    {
     "name": "stdout",
     "output_type": "stream",
     "text": [
      "None\n",
      "1\n"
     ]
    }
   ],
   "source": [
    "# vartest_error.py\n",
    "def vartest(aa):  #aa는 값을 받아온 거를 aa에 넣을게=매개변수\n",
    "    a = a + 1\n",
    "\n",
    "print(vartest(3))\n",
    "print(a)\n"
   ]
  },
  {
   "cell_type": "markdown",
   "id": "e7248b2f",
   "metadata": {},
   "source": [
    "### 함수 안에서 함수 밖의 변수를 변경하는 방법"
   ]
  },
  {
   "cell_type": "markdown",
   "id": "c196d8f2",
   "metadata": {},
   "source": [
    "#### return 사용하기"
   ]
  },
  {
   "cell_type": "markdown",
   "id": "87df0ba0",
   "metadata": {},
   "source": [
    "####  global 명령어 사용하기"
   ]
  },
  {
   "cell_type": "markdown",
   "id": "8299d05e",
   "metadata": {},
   "source": [
    "#### lambda 예약어\n",
    "lambda는 함수를 생성할 때 사용하는 예약어로, def와 동일한 역할을 한다. 보통 함수를 한 줄로 간결하게 만들 때 사용한다. 우리말로는 ‘람다’라고 읽고 def를 사용해야 할 정도로 복잡하지 않거나 def를 사용할 수 없는 곳(코드가 복잡해지거나 코드안에 코드 매서드 안에 매서드 등,데이터를 가공하는 함수들을 쓸 때 일회성 함수를 사용할 수 있음)에 주로 쓰인다.  \n",
    "함수사용목적은 코드를 재활용하기 위함임  \n",
    "\n",
    "lambda는 def 지정함수를 아주 짧게 한줄로 표현할수 있을때 굳이  def을 쓰지 않고 lambda로 간단하게 처리합니다\n",
    "lambda 내에서 선언된 변수들 또한 지역변수로, 전역에서는 쓸 수 없습니다"
   ]
  },
  {
   "cell_type": "code",
   "execution_count": 54,
   "id": "3c472370",
   "metadata": {},
   "outputs": [
    {
     "name": "stdout",
     "output_type": "stream",
     "text": [
      "7\n"
     ]
    }
   ],
   "source": [
    "add = lambda a, b: a+b\n",
    "result = add(3, 4)\n",
    "print(result)"
   ]
  },
  {
   "cell_type": "code",
   "execution_count": 55,
   "id": "060a02b6",
   "metadata": {},
   "outputs": [
    {
     "name": "stdout",
     "output_type": "stream",
     "text": [
      "7\n"
     ]
    }
   ],
   "source": [
    "#def 함수와 동일\n",
    "def add(a, b):\n",
    "    return a+b\n",
    "\n",
    "result = add(3, 4)\n",
    "print(result)"
   ]
  },
  {
   "cell_type": "markdown",
   "id": "bb328b98",
   "metadata": {},
   "source": [
    "### 파일 읽고쓰기"
   ]
  },
  {
   "cell_type": "markdown",
   "id": "580e9cbe",
   "metadata": {},
   "source": [
    "#### 파일 생성하기"
   ]
  },
  {
   "cell_type": "code",
   "execution_count": 7,
   "id": "52f6e13b",
   "metadata": {},
   "outputs": [],
   "source": [
    "f = open(\"새파일.txt\", 'w')\n",
    "f.close()"
   ]
  },
  {
   "cell_type": "markdown",
   "id": "afd0ee70",
   "metadata": {},
   "source": [
    "#### 파일을 쓰기 모드로 열어 내용 쓰기"
   ]
  },
  {
   "cell_type": "code",
   "execution_count": 14,
   "id": "82d51e80",
   "metadata": {},
   "outputs": [
    {
     "name": "stdout",
     "output_type": "stream",
     "text": [
      "1번째 줄입니다.\n",
      "\n",
      "2번째 줄입니다.\n",
      "\n",
      "3번째 줄입니다.\n",
      "\n",
      "4번째 줄입니다.\n",
      "\n",
      "5번째 줄입니다.\n",
      "\n",
      "6번째 줄입니다.\n",
      "\n",
      "7번째 줄입니다.\n",
      "\n",
      "8번째 줄입니다.\n",
      "\n",
      "9번째 줄입니다.\n",
      "\n",
      "10번째 줄입니다.\n",
      "\n"
     ]
    }
   ],
   "source": [
    "for i in range(1, 11):\n",
    "    data = \"%d번째 줄입니다.\\n\" % i\n",
    "    print(data)"
   ]
  },
  {
   "cell_type": "code",
   "execution_count": null,
   "id": "49a6388c",
   "metadata": {},
   "outputs": [],
   "source": []
  },
  {
   "cell_type": "code",
   "execution_count": null,
   "id": "254e7a9b",
   "metadata": {},
   "outputs": [],
   "source": []
  },
  {
   "cell_type": "code",
   "execution_count": null,
   "id": "ce07a432",
   "metadata": {},
   "outputs": [],
   "source": []
  },
  {
   "cell_type": "markdown",
   "id": "203dd772",
   "metadata": {},
   "source": [
    "#### 파일을 읽는 여러가지 방법"
   ]
  },
  {
   "cell_type": "code",
   "execution_count": 15,
   "id": "31fa5a81",
   "metadata": {},
   "outputs": [
    {
     "name": "stdout",
     "output_type": "stream",
     "text": [
      "\n"
     ]
    }
   ],
   "source": [
    "f = open(\"새파일.txt\", 'r')\n",
    "line = f.readline()\n",
    "print(line)\n",
    "f.close()"
   ]
  },
  {
   "cell_type": "code",
   "execution_count": null,
   "id": "feff9d40",
   "metadata": {},
   "outputs": [],
   "source": []
  },
  {
   "cell_type": "markdown",
   "id": "50973115",
   "metadata": {},
   "source": [
    "## 클래스"
   ]
  },
  {
   "cell_type": "code",
   "execution_count": 16,
   "id": "0ba46727",
   "metadata": {},
   "outputs": [
    {
     "name": "stdout",
     "output_type": "stream",
     "text": [
      "3\n",
      "7\n"
     ]
    }
   ],
   "source": [
    "result=0\n",
    "def add(num):\n",
    "    global result\n",
    "    result+= num\n",
    "    return result\n",
    "\n",
    "print(add(3))\n",
    "print(add(4))"
   ]
  },
  {
   "cell_type": "code",
   "execution_count": 17,
   "id": "e5814f76",
   "metadata": {},
   "outputs": [
    {
     "name": "stdout",
     "output_type": "stream",
     "text": [
      "3\n",
      "7\n",
      "3\n",
      "10\n"
     ]
    }
   ],
   "source": [
    "result1=0\n",
    "result2=0\n",
    "def add1(num):\n",
    "    global result1\n",
    "    result1+= num\n",
    "    return result1\n",
    "\n",
    "def add2(num):\n",
    "    global result2\n",
    "    result2+= num\n",
    "    return result2\n",
    "\n",
    "print(add1(3))\n",
    "print(add1(4))\n",
    "print(add2(3))\n",
    "print(add2(7))"
   ]
  },
  {
   "cell_type": "code",
   "execution_count": 18,
   "id": "2454ea33",
   "metadata": {},
   "outputs": [
    {
     "name": "stdout",
     "output_type": "stream",
     "text": [
      "3\n",
      "7\n",
      "3\n",
      "10\n"
     ]
    }
   ],
   "source": [
    "class Calculator: #(변수와 클래스를 구분해주기 위해 클래스 다음에 오는 문자의 처음은 대문자로 시작!)\n",
    "    def __init__(self):\n",
    "        self.result=0\n",
    "        \n",
    "    def add(self,num):\n",
    "        self.result +=num\n",
    "        return self.result\n",
    "cal1=calculator()\n",
    "cal2=calculator()\n",
    "\n",
    "print(cal1.add(3))\n",
    "print(cal1.add(4))\n",
    "print(cal2.add(3))\n",
    "print(cal2.add(7))"
   ]
  },
  {
   "cell_type": "code",
   "execution_count": 21,
   "id": "5211fc28",
   "metadata": {},
   "outputs": [],
   "source": [
    "class Cookie:\n",
    "    pass\n",
    "a=Cookie()\n",
    "b=Cookie()"
   ]
  },
  {
   "cell_type": "code",
   "execution_count": 22,
   "id": "1d66245d",
   "metadata": {},
   "outputs": [
    {
     "data": {
      "text/plain": [
       "__main__.FourCal"
      ]
     },
     "execution_count": 22,
     "metadata": {},
     "output_type": "execute_result"
    }
   ],
   "source": [
    "class FourCal:\n",
    "    pass\n",
    "a=FourCal()\n",
    "type(a)"
   ]
  },
  {
   "cell_type": "code",
   "execution_count": 28,
   "id": "cec5b32c",
   "metadata": {},
   "outputs": [],
   "source": [
    "class FourCal:\n",
    "    def setdata(self, first, second):  #메서드의 매개변수\n",
    "        self.first=first      #메서드의 수행문\n",
    "        self.second=second     #메서드의 수행문"
   ]
  },
  {
   "cell_type": "code",
   "execution_count": 30,
   "id": "47c26d9c",
   "metadata": {},
   "outputs": [],
   "source": [
    "a=FourCal()\n",
    "a.setdata(4,2)"
   ]
  },
  {
   "cell_type": "code",
   "execution_count": 31,
   "id": "b15189cb",
   "metadata": {},
   "outputs": [],
   "source": [
    "def setdata(self, first,second):\n",
    "    self.first=first\n",
    "    self.second=second"
   ]
  },
  {
   "cell_type": "code",
   "execution_count": 32,
   "id": "f1c5ec03",
   "metadata": {},
   "outputs": [],
   "source": [
    "a.first=4\n",
    "a.second=2"
   ]
  },
  {
   "cell_type": "code",
   "execution_count": 33,
   "id": "f420f6d8",
   "metadata": {},
   "outputs": [
    {
     "data": {
      "text/plain": [
       "4"
      ]
     },
     "execution_count": 33,
     "metadata": {},
     "output_type": "execute_result"
    }
   ],
   "source": [
    "a=FourCal()\n",
    "a.setdata(4,2)\n",
    "a.first"
   ]
  },
  {
   "cell_type": "code",
   "execution_count": 34,
   "id": "0f6dd61b",
   "metadata": {},
   "outputs": [
    {
     "data": {
      "text/plain": [
       "2"
      ]
     },
     "execution_count": 34,
     "metadata": {},
     "output_type": "execute_result"
    }
   ],
   "source": [
    "a.second"
   ]
  },
  {
   "cell_type": "code",
   "execution_count": null,
   "id": "0d5510a5",
   "metadata": {},
   "outputs": [],
   "source": [
    "rhkfghrk dlTsmsruddnsms ehdwkr rlsmddmf ehdwkrgkrl dnlgo rkqtdmf qkedma djqtekaus elvhfmrkqtdl dlTsmsrj\n",
    "                               "
   ]
  },
  {
   "cell_type": "code",
   "execution_count": 35,
   "id": "4acda4e1",
   "metadata": {},
   "outputs": [],
   "source": [
    "a=FourCal()\n",
    "b=FourCal()"
   ]
  },
  {
   "cell_type": "code",
   "execution_count": 36,
   "id": "6ce2e6a0",
   "metadata": {},
   "outputs": [
    {
     "data": {
      "text/plain": [
       "4"
      ]
     },
     "execution_count": 36,
     "metadata": {},
     "output_type": "execute_result"
    }
   ],
   "source": [
    "a.setdata(4,2)\n",
    "a.first"
   ]
  },
  {
   "cell_type": "code",
   "execution_count": 38,
   "id": "bc23ceab",
   "metadata": {},
   "outputs": [
    {
     "data": {
      "text/plain": [
       "3"
      ]
     },
     "execution_count": 38,
     "metadata": {},
     "output_type": "execute_result"
    }
   ],
   "source": [
    "b.setdata(3,7)\n",
    "b.first"
   ]
  },
  {
   "cell_type": "code",
   "execution_count": 39,
   "id": "9daea188",
   "metadata": {},
   "outputs": [
    {
     "data": {
      "text/plain": [
       "4"
      ]
     },
     "execution_count": 39,
     "metadata": {},
     "output_type": "execute_result"
    }
   ],
   "source": [
    "a.first"
   ]
  },
  {
   "cell_type": "code",
   "execution_count": 40,
   "id": "48288811",
   "metadata": {},
   "outputs": [],
   "source": [
    "class FourCal:\n",
    "    def setdata(self, first, second):\n",
    "        self.first = first\n",
    "        self.second = second"
   ]
  },
  {
   "cell_type": "code",
   "execution_count": 43,
   "id": "e40fc189",
   "metadata": {},
   "outputs": [],
   "source": [
    "a=FourCal()\n",
    "a.setdata(4,2)"
   ]
  },
  {
   "cell_type": "code",
   "execution_count": 44,
   "id": "36bc750d",
   "metadata": {},
   "outputs": [
    {
     "ename": "AttributeError",
     "evalue": "'FourCal' object has no attribute 'add'",
     "output_type": "error",
     "traceback": [
      "\u001b[1;31m---------------------------------------------------------------------------\u001b[0m",
      "\u001b[1;31mAttributeError\u001b[0m                            Traceback (most recent call last)",
      "Cell \u001b[1;32mIn[44], line 1\u001b[0m\n\u001b[1;32m----> 1\u001b[0m a\u001b[38;5;241m.\u001b[39madd()\n",
      "\u001b[1;31mAttributeError\u001b[0m: 'FourCal' object has no attribute 'add'"
     ]
    }
   ],
   "source": [
    "a.add()"
   ]
  },
  {
   "cell_type": "code",
   "execution_count": null,
   "id": "84be7d89",
   "metadata": {},
   "outputs": [],
   "source": []
  },
  {
   "cell_type": "code",
   "execution_count": null,
   "id": "2f785c9a",
   "metadata": {},
   "outputs": [],
   "source": []
  },
  {
   "cell_type": "code",
   "execution_count": null,
   "id": "28bbf81c",
   "metadata": {},
   "outputs": [],
   "source": []
  },
  {
   "cell_type": "code",
   "execution_count": null,
   "id": "3c98dbb4",
   "metadata": {},
   "outputs": [],
   "source": []
  },
  {
   "cell_type": "code",
   "execution_count": null,
   "id": "b85a97ed",
   "metadata": {},
   "outputs": [],
   "source": []
  }
 ],
 "metadata": {
  "kernelspec": {
   "display_name": "Python 3 (ipykernel)",
   "language": "python",
   "name": "python3"
  },
  "language_info": {
   "codemirror_mode": {
    "name": "ipython",
    "version": 3
   },
   "file_extension": ".py",
   "mimetype": "text/x-python",
   "name": "python",
   "nbconvert_exporter": "python",
   "pygments_lexer": "ipython3",
   "version": "3.11.5"
  },
  "toc": {
   "base_numbering": 1,
   "nav_menu": {},
   "number_sections": true,
   "sideBar": true,
   "skip_h1_title": false,
   "title_cell": "Table of Contents",
   "title_sidebar": "Contents",
   "toc_cell": false,
   "toc_position": {},
   "toc_section_display": true,
   "toc_window_display": false
  }
 },
 "nbformat": 4,
 "nbformat_minor": 5
}
