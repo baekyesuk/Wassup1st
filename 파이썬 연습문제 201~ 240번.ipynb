{
 "cells": [
  {
   "cell_type": "markdown",
   "id": "dda9954f",
   "metadata": {},
   "source": [
    "# 225~228번 4문제"
   ]
  },
  {
   "cell_type": "code",
   "execution_count": 16,
   "id": "a34b22b7",
   "metadata": {
    "scrolled": true
   },
   "outputs": [
    {
     "name": "stdout",
     "output_type": "stream",
     "text": [
      "[100, 130, 100, 100]\n"
     ]
    }
   ],
   "source": [
    "#225번 함수로 my_dict의 키값을 출력\n",
    "my_dict = {\"10/26\" : [100, 130, 100, 100],\n",
    "           \"10/27\" : [10, 12, 10, 11]}\n",
    "print_value_by_key  (my_dict, \"10/26\")\n",
    "def print_value_by_key(my_dict,key):\n",
    "    print(my_dict[key])"
   ]
  },
  {
   "cell_type": "code",
   "execution_count": 21,
   "id": "e9d9875d",
   "metadata": {},
   "outputs": [
    {
     "name": "stdout",
     "output_type": "stream",
     "text": [
      "[10, 12, 10, 11]\n"
     ]
    }
   ],
   "source": [
    "my_dict = {\"10/26\" : [100, 130, 100, 100],\n",
    "           \"10/27\" : [10, 12, 10, 11]}\n",
    "\n",
    "def print_value_by_key(my_dict,key):\n",
    "    print(my_dict[key])\n",
    "    \n",
    "print_value_by_key  (my_dict, \"10/27\")"
   ]
  },
  {
   "cell_type": "code",
   "execution_count": 24,
   "id": "82e77d3f",
   "metadata": {},
   "outputs": [
    {
     "name": "stdout",
     "output_type": "stream",
     "text": [
      "[100, 130, 100, 100]\n"
     ]
    }
   ],
   "source": [
    "my_dict = {\"10/26\" : [100, 130, 100, 100],\n",
    "           \"10/27\" : [10, 12, 10, 11]}\n",
    "\n",
    "def print_value_by_key(my_dict,key):\n",
    "        print(my_dict[key])\n",
    "    \n",
    "print_value_by_key  (my_dict, \"10/26\")"
   ]
  },
  {
   "cell_type": "code",
   "execution_count": null,
   "id": "5a33bee9",
   "metadata": {},
   "outputs": [],
   "source": [
    "#229.아래 코드의 실행 결과를 예측하라.\n",
    "\n",
    "def my_print (a, b) :\n",
    "    print(\"왼쪽:\", a)\n",
    "    print(\"오른쪽:\", b)\n",
    "\n",
    "my_print(a=100, b=200)\n"
   ]
  },
  {
   "cell_type": "code",
   "execution_count": null,
   "id": "e66d1309",
   "metadata": {},
   "outputs": [],
   "source": [
    "#230.아래 코드의 실행 결과를 예측하라.\n",
    "\n",
    "def my_print (a, b) :\n",
    "    print(\"왼쪽:\", a)\n",
    "    print(\"오른쪽:\", b)\n",
    "\n",
    "my_print(b=100, a=200)\n",
    "\n",
    "#마지막 줄 my_print에서 함수를 호출하는데, a 변수에 200, b 변수에 100을 지정 \n",
    "#출력:\n",
    "#왼쪽: 200\n",
    "#오른쪽: 100"
   ]
  },
  {
   "cell_type": "code",
   "execution_count": null,
   "id": "0e1b4c1f",
   "metadata": {},
   "outputs": [],
   "source": []
  },
  {
   "cell_type": "code",
   "execution_count": null,
   "id": "36a5da8d",
   "metadata": {},
   "outputs": [],
   "source": []
  },
  {
   "cell_type": "code",
   "execution_count": null,
   "id": "1592b6ba",
   "metadata": {},
   "outputs": [],
   "source": []
  },
  {
   "cell_type": "code",
   "execution_count": 28,
   "id": "4dc2bf6d",
   "metadata": {
    "scrolled": true
   },
   "outputs": [
    {
     "ename": "SyntaxError",
     "evalue": "invalid syntax (7568177.py, line 3)",
     "output_type": "error",
     "traceback": [
      "\u001b[1;36m  Cell \u001b[1;32mIn[28], line 3\u001b[1;36m\u001b[0m\n\u001b[1;33m    def print_5xn(\"아이엠어보이유알어걸\"):\u001b[0m\n\u001b[1;37m                  ^\u001b[0m\n\u001b[1;31mSyntaxError\u001b[0m\u001b[1;31m:\u001b[0m invalid syntax\n"
     ]
    }
   ],
   "source": [
    "#226 입력 문자열을 한 줄에 다섯글자씩 출력하는 print_5xn(string) 함수를 작성\n",
    "\n",
    "line=print_5xn(\"아이엠어보이유알어걸\")\n",
    "def print_5xn(line):\n",
    "    "
   ]
  },
  {
   "cell_type": "code",
   "execution_count": 33,
   "id": "923f957a",
   "metadata": {},
   "outputs": [
    {
     "name": "stdout",
     "output_type": "stream",
     "text": [
      "왼쪽: 100\n",
      "오른쪽: 200\n"
     ]
    }
   ],
   "source": [
    "#229번 def my_print (a, b) :\n",
    "    print(\"왼쪽:\", a)\n",
    "    print(\"오른쪽:\", b)\n",
    "\n",
    "my_print(100,200)"
   ]
  },
  {
   "cell_type": "code",
   "execution_count": 34,
   "id": "f0b643bb",
   "metadata": {},
   "outputs": [
    {
     "name": "stdout",
     "output_type": "stream",
     "text": [
      "왼쪽: 200\n",
      "오른쪽: 100\n"
     ]
    }
   ],
   "source": [
    "def my_print (a, b) :\n",
    "    print(\"왼쪽:\", a)\n",
    "    print(\"오른쪽:\", b)\n",
    "\n",
    "my_print(200,100)"
   ]
  },
  {
   "cell_type": "code",
   "execution_count": 35,
   "id": "6ff26b7a",
   "metadata": {},
   "outputs": [
    {
     "name": "stdout",
     "output_type": "stream",
     "text": [
      "왼쪽: 200\n",
      "오른쪽: 100\n"
     ]
    }
   ],
   "source": [
    "def my_print (a, b) :\n",
    "    print(\"왼쪽:\", a)\n",
    "    print(\"오른쪽:\", b)\n",
    "\n",
    "my_print(b=100,a=200)"
   ]
  },
  {
   "cell_type": "code",
   "execution_count": null,
   "id": "f694d1d0",
   "metadata": {},
   "outputs": [],
   "source": []
  },
  {
   "cell_type": "code",
   "execution_count": null,
   "id": "bfba6815",
   "metadata": {},
   "outputs": [],
   "source": []
  },
  {
   "cell_type": "code",
   "execution_count": null,
   "id": "958e17f6",
   "metadata": {},
   "outputs": [],
   "source": []
  }
 ],
 "metadata": {
  "kernelspec": {
   "display_name": "Python 3 (ipykernel)",
   "language": "python",
   "name": "python3"
  },
  "language_info": {
   "codemirror_mode": {
    "name": "ipython",
    "version": 3
   },
   "file_extension": ".py",
   "mimetype": "text/x-python",
   "name": "python",
   "nbconvert_exporter": "python",
   "pygments_lexer": "ipython3",
   "version": "3.11.5"
  },
  "toc": {
   "base_numbering": 1,
   "nav_menu": {},
   "number_sections": true,
   "sideBar": true,
   "skip_h1_title": false,
   "title_cell": "Table of Contents",
   "title_sidebar": "Contents",
   "toc_cell": false,
   "toc_position": {},
   "toc_section_display": true,
   "toc_window_display": false
  }
 },
 "nbformat": 4,
 "nbformat_minor": 5
}
